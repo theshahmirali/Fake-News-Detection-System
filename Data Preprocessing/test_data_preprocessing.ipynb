{
 "cells": [
  {
   "cell_type": "markdown",
   "metadata": {},
   "source": [
    "# Test for Data Preprocessing Script\n",
    "**Applying tests on pre-processing functions**\n",
    "**Moving to the current directory of the script**"
   ]
  },
  {
   "cell_type": "code",
   "execution_count": 191,
   "metadata": {},
   "outputs": [
    {
     "name": "stdout",
     "output_type": "stream",
     "text": [
      "D:\\University\\FIT3162\\Project\\Fake-News-Detection\\Data Preprocessing\n"
     ]
    }
   ],
   "source": [
    "cd \"D:\\University\\FIT3162\\Project\\Fake-News-Detection\\Data Preprocessing\""
   ]
  },
  {
   "cell_type": "markdown",
   "metadata": {},
   "source": [
    "**Appending the path to the system**"
   ]
  },
  {
   "cell_type": "code",
   "execution_count": 192,
   "metadata": {},
   "outputs": [],
   "source": [
    "import sys\n",
    "import os\n",
    "\n",
    "module_path = os.path.abspath(os.getcwd())    \n",
    "\n",
    "if module_path not in sys.path:       \n",
    "\n",
    "    sys.path.append(module_path)"
   ]
  },
  {
   "cell_type": "code",
   "execution_count": 4,
   "metadata": {},
   "outputs": [
    {
     "name": "stdout",
     "output_type": "stream",
     "text": [
      "importing Jupyter notebook from data_preprocessing1.ipynb\n"
     ]
    }
   ],
   "source": [
    "import unittest\n",
    "import pytest\n",
    "import pandas as pd\n",
    "import numpy as np\n",
    "import import_ipynb\n",
    "import data_preprocessing1\n",
    "import datetime as dt\n",
    "from pandas.testing import assert_frame_equal"
   ]
  },
  {
   "cell_type": "code",
   "execution_count": 5,
   "metadata": {},
   "outputs": [],
   "source": [
    "class TestDataPreprocessing(unittest.TestCase):\n",
    "\n",
    "    def test_remove_unwanted_columns(self):\n",
    "        remove_col = ['authors', 'sub_id']\n",
    "        \n",
    "        df = pd.DataFrame({\n",
    "        'authors': ['daniel6','george33','mylife'],\n",
    "        'user_id': ['200','215','345'],\n",
    "        'title': ['brain','','this is hard'],\n",
    "        'utc': ['1514784048','1490750889','1490751569'],\n",
    "        'sub_reddit': ['pic','work','tough-calls'],\n",
    "        'sub_id': ['3456','122345','283485504'],\n",
    "        'body': ['nice one','cool','elaborate please']\n",
    "        })\n",
    "        \n",
    "        expected = pd.DataFrame({\n",
    "        'user_id': ['200','215','345'],\n",
    "        'title': ['brain','','this is hard'],\n",
    "        'utc': ['1514784048','1490750889','1490751569'],\n",
    "        'sub_reddit': ['pic','work','tough-calls'],\n",
    "        'body': ['nice one','cool','elaborate please']\n",
    "        })\n",
    "\n",
    "        result = data_preprocessing1.remove_unwanted_columns(df, remove_col)\n",
    "        \n",
    "        columns_expected = len(expected.columns)\n",
    "        columns_result = len(result.columns)\n",
    "\n",
    "        self.assertEqual(columns_expected,columns_result)\n",
    "    \n",
    "    def test_delete_duplicated_posts(self):\n",
    "        \n",
    "        df = pd.DataFrame({\n",
    "        'id': ['200','215','345','200'],\n",
    "        'title': ['brain','','this is hard','milk is great'],\n",
    "        'utc': ['1514784048','1490750889','1490751569','1490750889'],\n",
    "        'sub_reddit': ['pic','work','tough-calls','dairy'],\n",
    "        'body': ['nice one','cool','elaborate please','its always']\n",
    "        })\n",
    "        \n",
    "        expected = pd.DataFrame({\n",
    "        'id': ['215','345'],\n",
    "        'title': ['','this is hard'],\n",
    "        'utc': ['1490750889','1490751569'],\n",
    "        'sub_reddit': ['work','tough-calls'],\n",
    "        'body': ['cool','elaborate please']\n",
    "        }) \n",
    "            \n",
    "        result = data_preprocessing1.delete_duplicated_posts(df)\n",
    "        \n",
    "        \n",
    "        rows_expected = expected['id'].count()\n",
    "        rows_result = result['id'].count()\n",
    "\n",
    "        assert rows_expected == rows_result, 'Delete duplicated posts test failed'\n",
    "        \n",
    "    def test_delete_empty_posts(self):\n",
    "        \n",
    "        df = pd.DataFrame({\n",
    "        'id': ['200','215','345','200'],\n",
    "        'title': ['brain',np.NaN,'this is hard','milk is great'],\n",
    "        'utc': ['1514784048','1490750889','1490751569','1490750889'],\n",
    "        'sub_reddit': ['pic','work','tough-calls','dairy'],\n",
    "        'body': ['nice one','cool','elaborate please','its always']\n",
    "        })\n",
    "        \n",
    "        expected = pd.DataFrame({\n",
    "        'id': ['200','345','200'],\n",
    "        'title': ['brain','this is hard','milk is great'],\n",
    "        'utc': ['1514784048','1490751569','1490750889'],\n",
    "        'sub_reddit': ['pic','tough-calls','dairy'],\n",
    "        'body': ['nice one','elaborate please','its always']\n",
    "        }) \n",
    "    \n",
    "        result = data_preprocessing1.delete_empty_posts(df,subset_list=['title'])\n",
    "\n",
    "        \n",
    "        rows_expected = expected['id'].count()\n",
    "        rows_result = result['id'].count()\n",
    "        \n",
    "        assert rows_expected == rows_result, 'Delete empty posts test failed'\n",
    "    \n",
    "    def test_remove_subreddits(self):\n",
    "        df = pd.DataFrame({\n",
    "        'id': ['200','215','345','200'],\n",
    "        'title': ['brain','','this is hard','milk is great'],\n",
    "        'utc': ['1514784048','1490750889','1490751569','1490750889'],\n",
    "        'subreddit': ['pic','work','tough-calls','dairy'],\n",
    "        'body': ['nice one','cool','elaborate please','its always']\n",
    "        })\n",
    "        \n",
    "        expected = pd.DataFrame({\n",
    "        'id': ['215','345','200'],\n",
    "        'title': ['','this is hard','milk is great'],\n",
    "        'utc': ['1490750889','1490751569','1490750889'],\n",
    "        'subreddit': ['work','tough-calls','dairy'],\n",
    "        'body': ['cool','elaborate please','its always']\n",
    "        }) \n",
    "        \n",
    "\n",
    "        \n",
    "        result = data_preprocessing1.remove_subreddits(df)\n",
    "        \n",
    "        rows_expected = expected['id'].count()\n",
    "        rows_result = result['id'].count()\n",
    "        \n",
    "        assert rows_expected == rows_result, 'Remove subreddits test failed'\n",
    "        \n",
    "    def test_delete_removed_comments(self):\n",
    "        df = pd.DataFrame({\n",
    "        'id': ['200','215','345','200'],\n",
    "        'title': ['brain','','this is hard','milk is great'],\n",
    "        'utc': ['1514784048','1490750889','1490751569','1490750889'],\n",
    "        'subreddit': ['pic','work','tough-calls','dairy'],\n",
    "        'body': ['nice one','[deleted]','[removed]','its always']\n",
    "        })\n",
    "        \n",
    "        expected = pd.DataFrame({\n",
    "        'id': ['200','200'],\n",
    "        'title': ['brain','milk is great'],\n",
    "        'utc': ['1514784048','1490750889'],\n",
    "        'subreddit': ['pic','dairy'],\n",
    "        'body': ['nice one','its always']\n",
    "        }) \n",
    "        \n",
    "    \n",
    "        result = data_preprocessing1.delete_removed_comments(df)\n",
    "    \n",
    "        \n",
    "        rows_expected = expected['id'].count()\n",
    "        rows_result = result['id'].count()\n",
    "        \n",
    "        assert rows_expected == rows_result, 'Delete removed comments test failed'\n",
    "        \n",
    "    def test_change_date(self):\n",
    "        df = pd.DataFrame({\n",
    "        'id': ['200','220'],\n",
    "        'title': ['brain','milk is great'],\n",
    "        'created_utc': [1514784048,1490750889],\n",
    "        'subreddit': ['pic','dairy'],\n",
    "        'body': ['nice one','its always']\n",
    "        })\n",
    "        \n",
    "        expected = pd.DataFrame({\n",
    "        'id': ['200','220'],\n",
    "        'title': ['brain','milk is great'],\n",
    "        'created_utc': ['2018-01-01 13:20:48','2017-03-29 09:28:09'],\n",
    "        'subreddit': ['pic','dairy'],\n",
    "        'body': ['nice one','its always']\n",
    "        }) \n",
    "        \n",
    "        result = data_preprocessing1.change_date(df)\n",
    "\n",
    "        assert result.iloc[0]['created_utc'].strftime('%Y-%m-%d %H:%M:%S') == expected.iloc[0]['created_utc'], 'Change UTC test Failed'\n",
    "   "
   ]
  },
  {
   "cell_type": "code",
   "execution_count": 8,
   "metadata": {},
   "outputs": [
    {
     "name": "stderr",
     "output_type": "stream",
     "text": [
      "......\n",
      "----------------------------------------------------------------------\n",
      "Ran 6 tests in 0.025s\n",
      "\n",
      "OK\n"
     ]
    }
   ],
   "source": [
    "if __name__ == '__main__':\n",
    "    unittest.main(argv=[''], exit=False)"
   ]
  },
  {
   "cell_type": "code",
   "execution_count": null,
   "metadata": {},
   "outputs": [],
   "source": []
  },
  {
   "cell_type": "code",
   "execution_count": null,
   "metadata": {},
   "outputs": [],
   "source": []
  }
 ],
 "metadata": {
  "kernelspec": {
   "display_name": "Python 3",
   "language": "python",
   "name": "python3"
  },
  "language_info": {
   "codemirror_mode": {
    "name": "ipython",
    "version": 3
   },
   "file_extension": ".py",
   "mimetype": "text/x-python",
   "name": "python",
   "nbconvert_exporter": "python",
   "pygments_lexer": "ipython3",
   "version": "3.7.6"
  }
 },
 "nbformat": 4,
 "nbformat_minor": 4
}
