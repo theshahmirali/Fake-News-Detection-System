{
 "cells": [
  {
   "cell_type": "markdown",
   "metadata": {},
   "source": [
    "# Test for Descriptive analysis Script\n",
    "**Applying tests on descriptive analysis functions**\n",
    "\n",
    "**Moving to the current directory of the script**"
   ]
  },
  {
   "cell_type": "code",
   "execution_count": 14,
   "metadata": {},
   "outputs": [
    {
     "name": "stdout",
     "output_type": "stream",
     "text": [
      "D:\\University\\FIT3162\\Project\\Fake-News-Detection\\Descriptive Analysis\n"
     ]
    }
   ],
   "source": [
    "cd \"D:\\University\\FIT3162\\Project\\Fake-News-Detection\\Descriptive Analysis\""
   ]
  },
  {
   "cell_type": "markdown",
   "metadata": {},
   "source": [
    "**Appending the path to the system**"
   ]
  },
  {
   "cell_type": "code",
   "execution_count": 15,
   "metadata": {},
   "outputs": [],
   "source": [
    "import sys\n",
    "import os\n",
    "\n",
    "module_path = os.path.abspath(os.getcwd())    \n",
    "\n",
    "if module_path not in sys.path:       \n",
    "\n",
    "    sys.path.append(module_path)"
   ]
  },
  {
   "cell_type": "code",
   "execution_count": 16,
   "metadata": {
    "scrolled": false
   },
   "outputs": [],
   "source": [
    "import unittest\n",
    "import pytest\n",
    "import pandas as pd\n",
    "import import_ipynb\n",
    "import descriptive_analysis"
   ]
  },
  {
   "cell_type": "code",
   "execution_count": 18,
   "metadata": {},
   "outputs": [],
   "source": [
    "class TestDescriptiveAnalysis(unittest.TestCase):\n",
    "    \n",
    "    def test_perform_statistics(self):\n",
    "\n",
    "        author = ['daniel6','george33','mylife','simonsays','mrpreferred','silenceoflambs','yunzen','hammond']\n",
    "        user_id = ['200','215','345','786','555','222','300','908']\n",
    "        title = ['brain','ss','this is hard','not possible','ferry','brain','cat','end of world']\n",
    "        utc = ['22/3/2018 22:36','15/8/2017 20:44','29/8/2018 4:58','15/8/2017 20:44',\n",
    "               '15/8/2017 20:44','22/3/2018 22:36','12/7/2019 17:01','12/7/2019 17:01']\n",
    "        sub_reddit = ['pic','work','tough-calls','pic','games','zoo','animals','gif']\n",
    "        sub_id = ['3456','122345','283485504','2848595043','218384','287384','238843923','283485504']\n",
    "        comments = [57,14,56,45,7,77,45,98]\n",
    "        label = [0,1,0,1,1,0,1,0]\n",
    "        domain = ['timesofisrael.com','i.redd.it','archive.is','web.archive.org',\n",
    "                  'self.SubSimulatorGPT2','washingtonian.com','i.redd.it','al.com']\n",
    "\n",
    "        df = pd.DataFrame(columns=['authors','id','title','created_utc','subreddit',\n",
    "                                   'submission_id','num_comments','domain','2_way_label'])\n",
    "        df['authors'] = author\n",
    "        df['id'] = user_id\n",
    "        df['title'] = title\n",
    "        df['created_utc'] = utc\n",
    "        df['subreddit'] = sub_reddit\n",
    "        df['submission_id'] = sub_id\n",
    "        df['num_comments'] = comments\n",
    "        df['domain'] = domain\n",
    "        df['2_way_label'] = label\n",
    "\n",
    "        df.to_csv('test_file.csv')\n",
    "\n",
    "        descriptive_analysis.perform_statistics(df)\n",
    "\n",
    "        new_df = pd.read_csv('post_stats_output.csv')\n",
    "\n",
    "        assert new_df.iloc[0]['total'] == 8, 'Perfrom Statistics test failed'\n",
    "        assert new_df.iloc[0]['true_articles'] == 4, 'Perfrom Statistics test failed'\n",
    "        assert new_df.iloc[0]['fake_articles'] == 4, 'Perfrom Statistics test failed'\n",
    "        assert new_df.iloc[0]['num_subreddit'] == 7, 'Perfrom Statistics test failed'\n",
    "        assert new_df.iloc[0]['num_domain'] == 7, 'Perfrom Statistics test failed'\n",
    "        assert new_df.iloc[0]['mean_comment'] == 49.875, 'Perfrom Statistics test failed'\n",
    "        assert new_df.iloc[0]['mean_title'] == 1.625, 'Perfrom Statistics test failed'\n",
    "        assert new_df.iloc[0]['min_date'] == ' 2017-08-15 20:44:00', 'Perfrom Statistics test failed'\n",
    "        assert new_df.iloc[0]['max_date'] == ' 2019-12-07 17:01:00', 'Perfrom Statistics test failed'\n",
    "        \n",
    "    def test_check_comment_status(self):\n",
    "        df = pd.read_csv('test_file.csv')\n",
    "\n",
    "        descriptive_analysis.check_comment_stats(df)\n",
    "\n",
    "        new_df = pd.read_csv('post_comments_stats_output.csv')\n",
    "\n",
    "        assert new_df.iloc[0]['total'] == 8, 'Perfrom Comment Statistics test failed'\n",
    "        assert new_df.iloc[0]['unique_posts'] == 7, 'Perfrom Comment Statistics test failed'"
   ]
  },
  {
   "cell_type": "code",
   "execution_count": 20,
   "metadata": {
    "scrolled": false
   },
   "outputs": [
    {
     "name": "stderr",
     "output_type": "stream",
     "text": [
      "D:\\Program Files\\anaconda3\\lib\\site-packages\\ipykernel_launcher.py:45: ResourceWarning: unclosed file <_io.TextIOWrapper name='D:\\\\University\\\\FIT3162\\\\Project\\\\Fake-News-Detection\\\\Descriptive Analysis\\\\post_comments_stats_output.csv' mode='a' encoding='cp1252'>\n",
      "ResourceWarning: Enable tracemalloc to get the object allocation traceback\n",
      ".D:\\Program Files\\anaconda3\\lib\\site-packages\\ipykernel_launcher.py:28: ResourceWarning: unclosed file <_io.TextIOWrapper name='D:\\\\University\\\\FIT3162\\\\Project\\\\Fake-News-Detection\\\\Descriptive Analysis\\\\post_stats_output.csv' mode='a' encoding='cp1252'>\n",
      "ResourceWarning: Enable tracemalloc to get the object allocation traceback\n",
      "."
     ]
    },
    {
     "name": "stdout",
     "output_type": "stream",
     "text": [
      "------------------------------\n",
      "Total Comments: 8\n",
      "------------------------------\n",
      "Unique Posts with comments: 7\n",
      "------------------------------\n",
      "------------------------------\n",
      "Total Samples: 8\n",
      "------------------------------\n",
      "Fake Samples: 4\n",
      "------------------------------\n",
      "True Samples: 4\n",
      "------------------------------\n",
      "Unique Subreddits: 7\n",
      "------------------------------\n",
      "Unique Domains: 7\n",
      "------------------------------\n",
      "Mean No of Comments: 49.875\n",
      "------------------------------\n",
      "Mean Words in title: 1.625\n",
      "------------------------------\n",
      "Min Creation Date: 2017-08-15 20:44:00\n",
      "------------------------------\n",
      "Max Creation Date: 2019-12-07 17:01:00\n",
      "------------------------------\n"
     ]
    },
    {
     "name": "stderr",
     "output_type": "stream",
     "text": [
      "\n",
      "----------------------------------------------------------------------\n",
      "Ran 2 tests in 0.049s\n",
      "\n",
      "OK\n"
     ]
    }
   ],
   "source": [
    "if __name__ == '__main__':\n",
    "    unittest.main(argv=['first-arg-is-ignored for jupyter'], exit=False)"
   ]
  },
  {
   "cell_type": "code",
   "execution_count": null,
   "metadata": {},
   "outputs": [],
   "source": []
  }
 ],
 "metadata": {
  "kernelspec": {
   "display_name": "Python 3",
   "language": "python",
   "name": "python3"
  },
  "language_info": {
   "codemirror_mode": {
    "name": "ipython",
    "version": 3
   },
   "file_extension": ".py",
   "mimetype": "text/x-python",
   "name": "python",
   "nbconvert_exporter": "python",
   "pygments_lexer": "ipython3",
   "version": "3.7.6"
  }
 },
 "nbformat": 4,
 "nbformat_minor": 4
}
